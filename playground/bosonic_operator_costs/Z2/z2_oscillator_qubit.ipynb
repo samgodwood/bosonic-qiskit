{
 "cells": [
  {
   "cell_type": "markdown",
   "metadata": {},
   "source": [
    "#### Z2 HIGGS MODEL\n",
    "$$\n",
    "\\hat{H}_{\\text{Z2}} = -g \\sum_{i=1}^{L-1} \\hat{X}_{i,i+1} + U \\sum_{i=1}^{L} \\hat{n}_i^2 - J \\sum_{i=1}^{L-1} \\left( \\hat{a}_i^\\dagger \\hat{Z}_{i,i+1} \\hat{a}_{i+1} + \\text{h.c.} \\right),\n",
    "$$\n",
    "\n",
    "For $L=2$ sites this is $\\hat{H}_{\\text{Z2}} = -g \\hat{X}_{1,2} + U\\left(\\hat{n}_1^2 + \\hat{n}_2^2\\right) - J\\left(\\hat{a}_1^\\dagger \\hat{Z}_{1,2} \\hat{a}_2 + \\hat{a}_2^\\dagger \\hat{Z}_{1,2} \\hat{a}_1\\right)$.\n",
    "\n",
    "To implement this in an oscillator-qubit architecture, we can do the following:\n",
    "- First term just corresponds to a qubit rotation\n",
    "- Hopping term is a conditional beamsplitter between the two sites\n",
    "- Onsite interaction term can be implemented using a $\\text{SNAP}_i(\\theta)$ gate (Choosing $\\theta_k = U_{ik}^2 t$, where $k$ is the photon number corresponding to a particular Fock state, implements the onsite interaction $\\hat{n}_i^2$ on the $i$ th mode.\n",
    ")"
   ]
  },
  {
   "cell_type": "code",
   "execution_count": null,
   "metadata": {},
   "outputs": [],
   "source": [
    "import sys\n",
    "import os\n",
    "\n",
    "# Adjust the path based on your directory structure\n",
    "module_path = os.path.abspath(os.path.join('..', '..', '..'))  # Moves three directories up\n",
    "if module_path not in sys.path:\n",
    "    sys.path.append(module_path)\n",
    "    \n",
    "# Now you can import c2qa and other modules from bosonic-qiskit\n",
    "import c2qa\n",
    "import qiskit\n",
    "import numpy as np\n",
    "import c2qa.util as util"
   ]
  },
  {
   "cell_type": "code",
   "execution_count": null,
   "metadata": {},
   "outputs": [],
   "source": [
    "def hopping_term(circuit, qbr, qb_index, qmr, mode1, mode2, j, delta_t):\n",
    "\n",
    "    \"\"\"\n",
    "    Applies the hopping term as a conditional beam splitter.\n",
    "\n",
    "    Parameters:\n",
    "        circuit (QuantumCircuit): The quantum circuit to modify.\n",
    "        qbr (QuantumRegister): The quantum register containing the gauge field qubits.\n",
    "        qb_index (int): The index of the qubit in the quantum register acting as the control.\n",
    "        qmr (QumodeRegister): The quantum register containing the bosonic modes.\n",
    "        mode1 (int): The index of the first bosonic mode.\n",
    "        mode2 (int): The index of the second bosonic mode.\n",
    "        j (float): Coupling constant for the hopping term.\n",
    "        delta_t (float): Trotter time step.\n",
    "    \"\"\"\n",
    "    theta = -1j * j * delta_t\n",
    "    circuit.cv_c_bs(theta, qmr[mode1], qmr[mode2], qbr[qb_index])\n",
    "\n",
    "def e_field(circuit, qbr, qb_index, g, delta_t):\n",
    "    \"\"\"\n",
    "    Applies the electric field term to a specific qubit in the gauge field qubit register.\n",
    "\n",
    "    Parameters:\n",
    "        circuit (QuantumCircuit): The quantum circuit to modify.\n",
    "        qbr (QuantumRegister): The quantum register containing the gauge field qubits.\n",
    "        qb_index (int): The index of the qubit in the quantum register.\n",
    "        g (float): Coupling constant for the electric field term.\n",
    "        delta_t (float): Trotter time step.\n",
    "    \"\"\"\n",
    "    theta = 2 * g * delta_t\n",
    "    circuit.rx(theta, qbr[qb_index])\n",
    "\n",
    "\n",
    "\n"
   ]
  },
  {
   "cell_type": "markdown",
   "metadata": {},
   "source": []
  }
 ],
 "metadata": {
  "kernelspec": {
   "display_name": "Python (Bosonic-Qiskit)",
   "language": "python",
   "name": "bosonic-qiskit"
  },
  "language_info": {
   "name": "python",
   "version": "3.10.12"
  }
 },
 "nbformat": 4,
 "nbformat_minor": 2
}
