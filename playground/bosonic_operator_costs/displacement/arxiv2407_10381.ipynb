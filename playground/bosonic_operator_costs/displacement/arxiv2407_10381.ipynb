{
 "cells": [
  {
   "cell_type": "code",
   "execution_count": 203,
   "metadata": {},
   "outputs": [],
   "source": [
    "import sys\n",
    "import os\n",
    "\n",
    "# Adjust the path based on your directory structure\n",
    "module_path = os.path.abspath(os.path.join('..', '..', '..'))  # Moves three directories up\n",
    "if module_path not in sys.path:\n",
    "    sys.path.append(module_path)\n",
    "\n",
    "# Now you can import c2qa and other modules from bosonic-qiskit\n",
    "import c2qa\n",
    "import qiskit\n",
    "import numpy as np\n",
    "import c2qa.util as util\n",
    "import matplotlib.pyplot as plt\n",
    "from qiskit import ClassicalRegister, visualization, AncillaRegister\n",
    "from qiskit_aer.noise import NoiseModel, amplitude_damping_error\n",
    "from qiskit.quantum_info import state_fidelity, Statevector\n"
   ]
  },
  {
   "cell_type": "markdown",
   "metadata": {},
   "source": [
    "A notebook to try and implement Algorithm 1 in appendix F of https://arxiv.org/pdf/2407.10381 , and then costing it in fault-tolerant manner."
   ]
  },
  {
   "cell_type": "code",
   "execution_count": 204,
   "metadata": {},
   "outputs": [
    {
     "name": "stdout",
     "output_type": "stream",
     "text": [
      "Statevector([0.        -0.84147098j, 0.54030231+0.j        ],\n",
      "            dims=(2,))\n"
     ]
    }
   ],
   "source": [
    "#setup registers\n",
    "qmr = c2qa.QumodeRegister(1, num_qubits_per_qumode = 1)\n",
    "\n",
    "\n",
    "#convenient labeling\n",
    "qumode = qmr[0]\n",
    "\n",
    "#The circuit is initalized to |0> by default\n",
    "circuit = c2qa.CVCircuit(qmr)\n",
    "\n",
    "circuit.initialize(1, qmr[0])\n",
    "#put the qubit into a superposition and then execute a controlled displacement of the cavity\n",
    "alpha = -1j\n",
    "circuit.cv_d(alpha, qmr[0])\n",
    "\n",
    "\n",
    "#simulate and plot\n",
    "statev, _, _ = c2qa.util.simulate(circuit)\n",
    "\n",
    "print(statev)"
   ]
  },
  {
   "cell_type": "code",
   "execution_count": 205,
   "metadata": {},
   "outputs": [
    {
     "name": "stdout",
     "output_type": "stream",
     "text": [
      "Statevector([ 0.        +0.13510367j,  0.        +0.j        ,\n",
      "             -0.08674907+0.j        ,  0.        +0.j        ,\n",
      "             -0.83055428+0.j        ,  0.        +0.j        ,\n",
      "              0.        -0.53329277j,  0.        +0.j        ],\n",
      "            dims=(2, 2, 2))\n",
      "0.5403023058681398 0.8414709848078965\n",
      "0.9870266449903538 -0.16055653857469052\n"
     ]
    }
   ],
   "source": [
    "import matplotlib.pyplot as plt\n",
    "import numpy as np\n",
    "from qiskit.quantum_info import SparsePauliOp, Operator\n",
    "from qiskit_algorithms import TimeEvolutionProblem\n",
    "from qiskit_algorithms import TrotterQRTE\n",
    "from qiskit.quantum_info import Statevector\n",
    "from qiskit import transpile, QuantumCircuit\n",
    "\n",
    "# Define the variables\n",
    "alpha = 1\n",
    "beta = 0\n",
    "gamma = 0\n",
    "kappa = 0\n",
    "t = 1  # Argument for the Rx gate\n",
    "j = 1\n",
    "# Create a quantum circuit with 1 qubit\n",
    "qc = QuantumCircuit(3)\n",
    "\n",
    "# Initialize the state |psi> = |01> (alpha|0> + beta|1>) + |11>(gamma|0> + kappa|1>)\n",
    "initial_state = [0, 0, alpha, beta, 0, 0, gamma, kappa]\n",
    "qc.initialize(initial_state, [0,1,2])\n",
    "\n",
    "#we have to somehow index the gate, maybe it does need to be \n",
    "# |1><1| \\otimes Rx(2t) ... and they're both getting applied to the qubit 0!\n",
    "qc.rx(2*t, 1)\n",
    "qc.rx(2*t*np.sqrt(3), 2)\n",
    "\n",
    "from qiskit.quantum_info import Statevector\n",
    "statevector = Statevector(qc)\n",
    "\n",
    "print(statevector)\n",
    "print(np.cos(j), np.sin(j))\n",
    "print(np.sin(np.sqrt(3)), np.cos(np.sqrt(3)))"
   ]
  },
  {
   "cell_type": "markdown",
   "metadata": {},
   "source": [
    "If $(\\sqrt{x})_j$ represents the value of the $j$-th bit in the fixed-point representation of the square root in increasing order of significance, then:\n",
    "\n",
    "$$\n",
    "e^{-i\\sqrt{x}\\sigma_x t} = H e^{-i\\sqrt{x}\\sigma_z t} H = H \\prod_{j=0}^{n-1} e^{-i (\\sqrt{x})_j 2^j \\sigma_z t} H.\n",
    "$$\n"
   ]
  },
  {
   "cell_type": "markdown",
   "metadata": {},
   "source": [
    "### Pure trotterization method"
   ]
  },
  {
   "cell_type": "code",
   "execution_count": 206,
   "metadata": {},
   "outputs": [],
   "source": [
    "import matplotlib.pyplot as plt\n",
    "import numpy as np\n",
    "from qiskit.quantum_info import SparsePauliOp, Operator\n",
    "from qiskit_algorithms import TimeEvolutionProblem\n",
    "from qiskit_algorithms import TrotterQRTE\n",
    "from qiskit.quantum_info import Statevector\n",
    "from qiskit import transpile\n",
    "from qiskit.providers.fake_provider import GenericBackendV2\n",
    "\n",
    "import sys\n",
    "from pathlib import Path\n",
    "\n",
    "# Add the `playground` directory to the Python path\n",
    "playground_path = Path.cwd().parent.parent  # Move two levels up to `playground`\n",
    "sys.path.append(str(playground_path))\n",
    "# Homemade functions\n",
    "from bosonic_operator_costs.all_qubit_utils import create_annihilation_operator, create_creation_operator, convert_hamiltonian_to_pauli_string, evolve_system"
   ]
  },
  {
   "cell_type": "code",
   "execution_count": 207,
   "metadata": {},
   "outputs": [],
   "source": [
    "def displacement_hamiltonian(n_max, alpha=1):\n",
    "    \"\"\"\n",
    "    Creates the matrix representation of the operator i*alpha(b^dagger - b).\n",
    "\n",
    "    Parameters:\n",
    "        n_max (int): The Fock cutoff.\n",
    "        alpha (complex, optional): The amount of displacement. Defaults to 1.\n",
    "\n",
    "    Returns:\n",
    "        np.ndarray: The matrix representation of i*alpha(b^dagger - b).\n",
    "    \"\"\"\n",
    "    b = create_annihilation_operator(n_max)\n",
    "    b_dag = create_creation_operator(n_max)\n",
    "\n",
    "    hamiltonian = 1j* (alpha * b_dag - alpha.conjugate() * b)\n",
    "    return hamiltonian\n",
    "\n",
    "\n",
    "def define_initial_state(num_modes, n_max):\n",
    "    \"\"\"\n",
    "    Define the initial state vector for the system.\n",
    "\n",
    "    Parameters:\n",
    "        n_qubits (int): The number of qubits in the system.\n",
    "\n",
    "    Returns:\n",
    "        Statevector: The initial quantum state.\n",
    "    \"\"\"\n",
    "    n_qubits = num_modes * int(np.ceil(np.log2(n_max + 1)))\n",
    "    initial_state_vector = np.zeros(2**n_qubits, dtype=complex)\n",
    "    initial_state_vector[0] = 1.0\n",
    "\n",
    "    return Statevector(initial_state_vector)"
   ]
  },
  {
   "cell_type": "code",
   "execution_count": null,
   "metadata": {},
   "outputs": [
    {
     "name": "stdout",
     "output_type": "stream",
     "text": [
      "[[ 0.00000000e+00+0.j  1.00000000e+00+0.j  0.00000000e+00+0.j\n",
      "  -1.11022302e-16+0.j  0.00000000e+00+0.j  0.00000000e+00+0.j\n",
      "   0.00000000e+00+0.j  0.00000000e+00+0.j  0.00000000e+00+0.j\n",
      "   0.00000000e+00+0.j  0.00000000e+00+0.j  0.00000000e+00+0.j\n",
      "   0.00000000e+00+0.j  0.00000000e+00+0.j  0.00000000e+00+0.j\n",
      "   0.00000000e+00+0.j]\n",
      " [-1.00000000e+00+0.j  0.00000000e+00+0.j  1.41421356e+00+0.j\n",
      "   0.00000000e+00+0.j  0.00000000e+00+0.j  0.00000000e+00+0.j\n",
      "  -1.11022302e-16+0.j  0.00000000e+00+0.j  0.00000000e+00+0.j\n",
      "   0.00000000e+00+0.j  0.00000000e+00+0.j  0.00000000e+00+0.j\n",
      "   0.00000000e+00+0.j  0.00000000e+00+0.j  0.00000000e+00+0.j\n",
      "   0.00000000e+00+0.j]\n",
      " [ 0.00000000e+00+0.j -1.41421356e+00+0.j  0.00000000e+00+0.j\n",
      "   1.73205081e+00+0.j  0.00000000e+00+0.j  0.00000000e+00+0.j\n",
      "   0.00000000e+00+0.j  0.00000000e+00+0.j  0.00000000e+00+0.j\n",
      "   0.00000000e+00+0.j  0.00000000e+00+0.j  0.00000000e+00+0.j\n",
      "   0.00000000e+00+0.j -1.11022302e-16+0.j  0.00000000e+00+0.j\n",
      "   0.00000000e+00+0.j]\n",
      " [ 1.11022302e-16+0.j  0.00000000e+00+0.j -1.73205081e+00+0.j\n",
      "   0.00000000e+00+0.j  2.00000000e+00+0.j  0.00000000e+00+0.j\n",
      "   0.00000000e+00+0.j  0.00000000e+00+0.j  0.00000000e+00+0.j\n",
      "   0.00000000e+00+0.j  0.00000000e+00+0.j  0.00000000e+00+0.j\n",
      "   0.00000000e+00+0.j  0.00000000e+00+0.j  0.00000000e+00+0.j\n",
      "   0.00000000e+00+0.j]\n",
      " [ 0.00000000e+00+0.j  0.00000000e+00+0.j  0.00000000e+00+0.j\n",
      "  -2.00000000e+00+0.j  0.00000000e+00+0.j  2.23606798e+00+0.j\n",
      "   0.00000000e+00+0.j  1.11022302e-16+0.j  0.00000000e+00+0.j\n",
      "   0.00000000e+00+0.j  0.00000000e+00+0.j  0.00000000e+00+0.j\n",
      "   0.00000000e+00+0.j  0.00000000e+00+0.j  0.00000000e+00+0.j\n",
      "   0.00000000e+00+0.j]\n",
      " [ 0.00000000e+00+0.j  0.00000000e+00+0.j  0.00000000e+00+0.j\n",
      "   0.00000000e+00+0.j -2.23606798e+00+0.j  0.00000000e+00+0.j\n",
      "   2.44948974e+00+0.j  0.00000000e+00+0.j  0.00000000e+00+0.j\n",
      "   0.00000000e+00+0.j  0.00000000e+00+0.j  0.00000000e+00+0.j\n",
      "   0.00000000e+00+0.j  0.00000000e+00+0.j  0.00000000e+00+0.j\n",
      "   0.00000000e+00+0.j]\n",
      " [ 0.00000000e+00+0.j  1.11022302e-16+0.j  0.00000000e+00+0.j\n",
      "   0.00000000e+00+0.j  0.00000000e+00+0.j -2.44948974e+00+0.j\n",
      "   0.00000000e+00+0.j  2.64575131e+00+0.j  0.00000000e+00+0.j\n",
      "   0.00000000e+00+0.j  0.00000000e+00+0.j  0.00000000e+00+0.j\n",
      "   0.00000000e+00+0.j  0.00000000e+00+0.j  0.00000000e+00+0.j\n",
      "   0.00000000e+00+0.j]\n",
      " [ 0.00000000e+00+0.j  0.00000000e+00+0.j  0.00000000e+00+0.j\n",
      "   0.00000000e+00+0.j -1.11022302e-16+0.j  0.00000000e+00+0.j\n",
      "  -2.64575131e+00+0.j  0.00000000e+00+0.j  2.82842712e+00+0.j\n",
      "   0.00000000e+00+0.j  0.00000000e+00+0.j  0.00000000e+00+0.j\n",
      "   0.00000000e+00+0.j  0.00000000e+00+0.j  0.00000000e+00+0.j\n",
      "   0.00000000e+00+0.j]\n",
      " [ 0.00000000e+00+0.j  0.00000000e+00+0.j  0.00000000e+00+0.j\n",
      "   0.00000000e+00+0.j  0.00000000e+00+0.j  0.00000000e+00+0.j\n",
      "   0.00000000e+00+0.j -2.82842712e+00+0.j  0.00000000e+00+0.j\n",
      "   3.00000000e+00+0.j  0.00000000e+00+0.j  1.11022302e-16+0.j\n",
      "   0.00000000e+00+0.j  0.00000000e+00+0.j  0.00000000e+00+0.j\n",
      "   0.00000000e+00+0.j]\n",
      " [ 0.00000000e+00+0.j  0.00000000e+00+0.j  0.00000000e+00+0.j\n",
      "   0.00000000e+00+0.j  0.00000000e+00+0.j  0.00000000e+00+0.j\n",
      "   0.00000000e+00+0.j  0.00000000e+00+0.j -3.00000000e+00+0.j\n",
      "   0.00000000e+00+0.j  3.16227766e+00+0.j  0.00000000e+00+0.j\n",
      "   0.00000000e+00+0.j  0.00000000e+00+0.j  1.11022302e-16+0.j\n",
      "   0.00000000e+00+0.j]\n",
      " [ 0.00000000e+00+0.j  0.00000000e+00+0.j  0.00000000e+00+0.j\n",
      "   0.00000000e+00+0.j  0.00000000e+00+0.j  0.00000000e+00+0.j\n",
      "   0.00000000e+00+0.j  0.00000000e+00+0.j  0.00000000e+00+0.j\n",
      "  -3.16227766e+00+0.j  0.00000000e+00+0.j  3.31662479e+00+0.j\n",
      "   0.00000000e+00+0.j  0.00000000e+00+0.j  0.00000000e+00+0.j\n",
      "   0.00000000e+00+0.j]\n",
      " [ 0.00000000e+00+0.j  0.00000000e+00+0.j  0.00000000e+00+0.j\n",
      "   0.00000000e+00+0.j  0.00000000e+00+0.j  0.00000000e+00+0.j\n",
      "   0.00000000e+00+0.j  0.00000000e+00+0.j -1.11022302e-16+0.j\n",
      "   0.00000000e+00+0.j -3.31662479e+00+0.j  0.00000000e+00+0.j\n",
      "   3.46410162e+00+0.j  0.00000000e+00+0.j  0.00000000e+00+0.j\n",
      "   0.00000000e+00+0.j]\n",
      " [ 0.00000000e+00+0.j  0.00000000e+00+0.j  0.00000000e+00+0.j\n",
      "   0.00000000e+00+0.j  0.00000000e+00+0.j  0.00000000e+00+0.j\n",
      "   0.00000000e+00+0.j  0.00000000e+00+0.j  0.00000000e+00+0.j\n",
      "   0.00000000e+00+0.j  0.00000000e+00+0.j -3.46410162e+00+0.j\n",
      "   0.00000000e+00+0.j  3.60555128e+00+0.j  0.00000000e+00+0.j\n",
      "  -1.11022302e-16+0.j]\n",
      " [ 0.00000000e+00+0.j  0.00000000e+00+0.j  1.11022302e-16+0.j\n",
      "   0.00000000e+00+0.j  0.00000000e+00+0.j  0.00000000e+00+0.j\n",
      "   0.00000000e+00+0.j  0.00000000e+00+0.j  0.00000000e+00+0.j\n",
      "   0.00000000e+00+0.j  0.00000000e+00+0.j  0.00000000e+00+0.j\n",
      "  -3.60555128e+00+0.j  0.00000000e+00+0.j  3.74165739e+00+0.j\n",
      "   0.00000000e+00+0.j]\n",
      " [ 0.00000000e+00+0.j  0.00000000e+00+0.j  0.00000000e+00+0.j\n",
      "   0.00000000e+00+0.j  0.00000000e+00+0.j  0.00000000e+00+0.j\n",
      "   0.00000000e+00+0.j  0.00000000e+00+0.j  0.00000000e+00+0.j\n",
      "  -1.11022302e-16+0.j  0.00000000e+00+0.j  0.00000000e+00+0.j\n",
      "   0.00000000e+00+0.j -3.74165739e+00+0.j  0.00000000e+00+0.j\n",
      "   3.87298335e+00+0.j]\n",
      " [ 0.00000000e+00+0.j  0.00000000e+00+0.j  0.00000000e+00+0.j\n",
      "   0.00000000e+00+0.j  0.00000000e+00+0.j  0.00000000e+00+0.j\n",
      "   0.00000000e+00+0.j  0.00000000e+00+0.j  0.00000000e+00+0.j\n",
      "   0.00000000e+00+0.j  0.00000000e+00+0.j  0.00000000e+00+0.j\n",
      "   1.11022302e-16+0.j  0.00000000e+00+0.j -3.87298335e+00+0.j\n",
      "   0.00000000e+00+0.j]]\n"
     ]
    }
   ],
   "source": [
    "from qiskit.quantum_info import Statevector\n",
    "\n",
    "num_qubits_per_mode = 4\n",
    "n_max = 2**num_qubits_per_mode - 1\n",
    "num_modes = 1\n",
    "alpha = 1\n",
    "initial_state = define_initial_state(num_modes, n_max)\n",
    "\n",
    "hamiltonian = displacement_hamiltonian(n_max, alpha)\n",
    "\n",
    "\n",
    "hamiltonian = SparsePauliOp.from_operator(Operator(hamiltonian))\n",
    "\n",
    "# print(hamiltonian)\n",
    "# print(1j*hamiltonian.to_matrix())\n"
   ]
  },
  {
   "cell_type": "code",
   "execution_count": null,
   "metadata": {},
   "outputs": [
    {
     "name": "stdout",
     "output_type": "stream",
     "text": [
      "Statevector([-3.27930969e-01+0.j,  6.31114284e-01+0.j, -6.88500773e-01+0.j,\n",
      "             -6.52352283e-02+0.j,  1.24836928e-01+0.j,  1.53809822e-02+0.j,\n",
      "              6.73518253e-03+0.j, -9.45174667e-04+0.j, -2.20066091e-05+0.j,\n",
      "             -2.23874541e-05+0.j, -2.06320185e-05+0.j, -5.87378728e-07+0.j,\n",
      "              8.30996827e-07+0.j, -1.31409490e-07+0.j,  1.17792656e-08+0.j,\n",
      "              4.02381119e-10+0.j],\n",
      "            dims=(2, 2, 2, 2))\n"
     ]
    }
   ],
   "source": [
    "problem = TimeEvolutionProblem(hamiltonian, initial_state=initial_state, time=0.001)\n",
    "trotter = TrotterQRTE()\n",
    "circuit = trotter.evolve(problem).evolved_state\n",
    "\n",
    "backend=GenericBackendV2(2)\n",
    "\n",
    "transpiled_circuit = transpile(\n",
    "    circuit,\n",
    "    basis_gates=backend.operation_names,\n",
    "    optimization_level=1\n",
    ")\n",
    "\n",
    "\n",
    "statevector = Statevector(circuit)\n",
    "unitary = Operator(circuit)\n",
    "print(statevector)\n",
    "# print(unitary)"
   ]
  },
  {
   "cell_type": "code",
   "execution_count": null,
   "metadata": {},
   "outputs": [
    {
     "name": "stdout",
     "output_type": "stream",
     "text": [
      "Statevector([6.06530660e-01+0.j, 6.06530660e-01+0.j, 4.28881942e-01+0.j,\n",
      "             2.47615105e-01+0.j, 1.23807552e-01+0.j, 5.53684207e-02+0.j,\n",
      "             2.26040631e-02+0.j, 8.54353279e-03+0.j, 3.02059499e-03+0.j,\n",
      "             1.00686500e-03+0.j, 3.18398662e-04+0.j, 9.60008527e-05+0.j,\n",
      "             2.77127962e-05+0.j, 7.68758496e-06+0.j, 2.04737718e-06+0.j,\n",
      "             5.61860029e-07+0.j],\n",
      "            dims=(2, 2, 2, 2))\n"
     ]
    }
   ],
   "source": [
    "#setup registers\n",
    "qmr = c2qa.QumodeRegister(1, num_qubits_per_qumode = num_qubits_per_mode)\n",
    "\n",
    "#convenient labeling\n",
    "qumode = qmr[0]\n",
    "\n",
    "#The circuit is initalized to |0> by default\n",
    "circuit = c2qa.CVCircuit(qmr)\n",
    "\n",
    "#put the qubit into a superposition and then execute a controlled displacement of the cavity\n",
    "alpha = 0.001\n",
    "circuit.cv_d(alpha, qmr[0])\n",
    "\n",
    "\n",
    "#simulate and plot\n",
    "statev, _, _ = c2qa.util.simulate(circuit)\n",
    "\n",
    "unitary = Operator(circuit)\n",
    "# print(unitary)\n",
    "print(statev)"
   ]
  },
  {
   "cell_type": "markdown",
   "metadata": {},
   "source": [
    "planned next steps:\n",
    "plot the wigner function and comapre these two states!\n"
   ]
  },
  {
   "cell_type": "code",
   "execution_count": 241,
   "metadata": {},
   "outputs": [
    {
     "data": {
      "image/png": "[encoded data removed]",
      "text/plain": [
       "<Figure size 640x480 with 2 Axes>"
      ]
     },
     "metadata": {},
     "output_type": "display_data"
    }
   ],
   "source": [
    "qmr0 = c2qa.QumodeRegister(num_qumodes=1, num_qubits_per_qumode=num_qubits_per_mode)\n",
    "circuit0 = c2qa.CVCircuit(qmr0)\n",
    "\n",
    "\n",
    "\n",
    "circuit0.cv_initialize([-3.27930969e-01+0.j,  6.31114284e-01+0.j, -6.88500773e-01+0.j,\n",
    "             -6.52352283e-02+0.j,  1.24836928e-01+0.j,  1.53809822e-02+0.j,\n",
    "              6.73518253e-03+0.j, -9.45174667e-04+0.j, -2.20066091e-05+0.j,\n",
    "             -2.23874541e-05+0.j, -2.06320185e-05+0.j, -5.87378728e-07+0.j,\n",
    "              8.30996827e-07+0.j, -1.31409490e-07+0.j,  1.17792656e-08+0.j,\n",
    "              4.02381119e-10+0.j], qmr0[0])\n",
    "\n",
    "# # Initialize the qumode to a zero Fock sate\n",
    "# circuit0.cv_initialize([6.06530660e-01+0.j, 6.06530660e-01+0.j, 4.28881942e-01+0.j,\n",
    "#              2.47615105e-01+0.j, 1.23807552e-01+0.j, 5.53684207e-02+0.j,\n",
    "#              2.26040631e-02+0.j, 8.54353279e-03+0.j, 3.02059499e-03+0.j,\n",
    "#              1.00686500e-03+0.j, 3.18398662e-04+0.j, 9.60008527e-05+0.j,\n",
    "#              2.77127962e-05+0.j, 7.68758496e-06+0.j, 2.04737718e-06+0.j,\n",
    "#              5.61860029e-07+0.j], qmr0[0])\n",
    "\n",
    "# circuit0.cv_d(alpha, qmr0[0])\n",
    "\n",
    "\n",
    "state0, _, _ = c2qa.util.simulate(circuit0)\n",
    "\n",
    "c2qa.wigner.plot_wigner(circuit0, state0)\n"
   ]
  }
 ],
 "metadata": {
  "kernelspec": {
   "display_name": "Python (Bosonic-Qiskit)",
   "language": "python",
   "name": "bosonic-qiskit"
  },
  "language_info": {
   "codemirror_mode": {
    "name": "ipython",
    "version": 3
   },
   "file_extension": ".py",
   "mimetype": "text/x-python",
   "name": "python",
   "nbconvert_exporter": "python",
   "pygments_lexer": "ipython3",
   "version": "3.10.12"
  }
 },
 "nbformat": 4,
 "nbformat_minor": 2
}
