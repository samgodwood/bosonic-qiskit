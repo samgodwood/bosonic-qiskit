{
 "cells": [
  {
   "cell_type": "markdown",
   "metadata": {},
   "source": [
    "A notebook to cost a single Trotter step of the 1D Holstein model (see [Sec II.3 here](https://arxiv.org/pdf/2307.06580)) using an all qubit architecture. "
   ]
  }
 ],
 "metadata": {
  "language_info": {
   "name": "python"
  }
 },
 "nbformat": 4,
 "nbformat_minor": 2
}
