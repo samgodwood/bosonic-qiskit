{
 "cells": [
  {
   "cell_type": "markdown",
   "metadata": {},
   "source": [
    "# Z2-Higgs Model Dynamics\n",
    "\n",
    "Reproducing Fig. 17 from [arXiv:2409.03747](https://arxiv.org/abs/2409.03747).\n",
    "### Hamiltonian in (1 + 1)D:\n",
    "\n",
    "The $Z_2$-Higgs model Hamiltonian is given by:\n",
    "\n",
    "$$\n",
    "\\hat{H}_{Z_2} = -g \\sum_{i=1}^{L-1} \\hat{X}_{i,i+1} + U \\sum_{i=1}^{L} \\hat{n}_i^2 \n",
    "- J \\sum_{i=1}^{L-1} \\left( \\hat{a}^\\dagger_i \\hat{Z}_{i,i+1} \\hat{a}_{i+1} + \\text{h.c.} \\right)\n",
    "$$\n",
    "\n",
    "We will simulate the Trotterized dynamics for $U = 0$.\n",
    "\n",
    "---\n",
    "\n",
    "### Trotterized Evolution:\n",
    "\n",
    "We evolve initial states using a first-order Trotterization:\n",
    "\n",
    "$$\n",
    "e^{-i\\hat{H}_{Z_2}t} \\approx \\left( \\hat{U}_1 \\hat{U}_2 \\right)^r\n",
    "$$\n",
    "\n",
    "where $\\Delta t = t/r$ and:\n",
    "\n",
    "1. **Electric field on links:**\n",
    "   $$\n",
    "   \\hat{U}_1 = \\prod_{i} e^{-ig\\hat{X}_{i,i+1}\\Delta t}\n",
    "   $$\n",
    "\n",
    "2. **Hopping term for bosons between sites:**\n",
    "   $$\n",
    "   \\hat{U}_2 = \\prod_{i=1}^{L-1} e^{-iJ\\hat{Z}_{i,i+1}(\\hat{a}^\\dagger_i \\hat{a}_{i+1} + \\hat{a}_i \\hat{a}^\\dagger_{i+1})\\Delta t}\n",
    "   $$\n",
    "\n",
    "---\n"
   ]
  },
  {
   "cell_type": "code",
   "execution_count": null,
   "metadata": {},
   "outputs": [],
   "source": [
    "import sys\n",
    "import os\n",
    "\n",
    "# Adjust the path based on your directory structure\n",
    "module_path = os.path.abspath(os.path.join('..', '..', '..'))  # Moves three directories up\n",
    "if module_path not in sys.path:\n",
    "    sys.path.append(module_path)\n",
    "    \n",
    "# Now you can import c2qa and other modules from bosonic-qiskit\n",
    "import c2qa\n",
    "import qiskit\n",
    "import numpy as np\n",
    "import c2qa.util as util\n",
    "import matplotlib.pyplot as plt\n",
    "import matplotlib"
   ]
  },
  {
   "cell_type": "markdown",
   "metadata": {},
   "source": [
    "We consider a $L=5$-site chain prepared in the state $|\\psi_0\\rangle = |00100\\rangle$. The limitation to five sites is not restrictive for short timescales, as the interactions are short-range, and excitations spread with a finite velocity. As long as the “lightcone” does not reach the boundary, the results obtained are the same as in a larger system. The qubits representing the $\\mathbb{Z}_2$-Higgs model gauge fields must be initialized according to Gauss’s law, ensuring consistency between the qubits and the parity in each mode. Specifically, with the leftmost gauge field qubit in $|+\\rangle$ and the sites in the Fock state $|00100\\rangle$, the gauge field qubits on the links between the bosonic sites are initialized in $|++--\\rangle$.\n"
   ]
  },
  {
   "cell_type": "code",
   "execution_count": 13,
   "metadata": {},
   "outputs": [],
   "source": [
    "# Parameters\n",
    "numberofmodes = 5\n",
    "numberofqubits = numberofmodes - 1\n",
    "numberofqubitspermode = 3\n",
    "cutoff = 2 ** numberofqubitspermode\n",
    "\n",
    "# Create registers\n",
    "qmr = c2qa.QumodeRegister(num_qumodes=numberofmodes, num_qubits_per_qumode=numberofqubitspermode)  # Qumodes\n",
    "qbr = qiskit.QuantumRegister(size=numberofqubits)  # Qubits for gauge fields\n",
    "circuit = c2qa.CVCircuit(qmr, qbr)  # Circuit\n",
    "\n",
    "# Initialize bosonic modes (Fock state |00100⟩)\n",
    "fock_states = [0, 0, 1, 0, 0]  # Corresponds to |00100⟩\n",
    "for i, fock_amplitude in enumerate(fock_states):\n",
    "    coeffs = [0] * cutoff  # Initialize all coefficients to 0\n",
    "    coeffs[fock_amplitude] = 1  # Set the amplitude for the desired Fock state\n",
    "    circuit.cv_initialize(coeffs, qmr[i])  # Initialize each qumode\n",
    "\n",
    "# Initialize qubits (|++--⟩)\n",
    "plus_state = [1 / np.sqrt(2), 1 / np.sqrt(2)]  # Coefficients for |+⟩\n",
    "minus_state = [1 / np.sqrt(2), -1 / np.sqrt(2)]  # Coefficients for |−⟩\n",
    "\n",
    "# Apply initialization to each qubit\n",
    "for i in range(numberofqubits):\n",
    "    if i < 2:  # First two qubits to |+⟩\n",
    "        circuit.initialize(plus_state, qbr[i])\n",
    "    else:  # Last two qubits to |−⟩\n",
    "        circuit.initialize(minus_state, qbr[i])\n",
    "\n",
    "# Draw the circuit for visualization\n",
    "# circuit.draw('mpl')\n",
    "\n",
    "# state0, _, _ = c2qa.util.simulate(circuit)\n",
    "# occupation0 = c2qa.util.stateread(state0, numberofqubits, numberofmodes, 2**3, verbose=False)\n",
    "\n",
    "# print(state0)\n",
    "# print(occupation0)"
   ]
  },
  {
   "cell_type": "markdown",
   "metadata": {},
   "source": [
    "Now we need to define the gate sequence correspoding to a single Trotter step. Let's start with the electric field. $\\hat{U}_1 = \\prod_{i} e^{-ig\\hat{X}_{i,i+1}\\Delta t}$. This can just be implemented using a single qubit rotation.\n"
   ]
  },
  {
   "cell_type": "code",
   "execution_count": 14,
   "metadata": {},
   "outputs": [],
   "source": [
    "def e_field(circuit, qbr, qb_index, g, delta_t):\n",
    "    \"\"\"\n",
    "    Applies the electric field term \\( \\hat{U}_1 \\) to a specific qubit in the gauge field qubit register.\n",
    "\n",
    "    Parameters:\n",
    "        circuit (QuantumCircuit): The quantum circuit to modify.\n",
    "        qbr (QuantumRegister): The quantum register containing the gauge field qubits.\n",
    "        qb_index (int): The index of the qubit in the quantum register.\n",
    "        g (float): Coupling constant for the electric field term.\n",
    "        delta_t (float): Trotter time step.\n",
    "    \"\"\"\n",
    "    theta = 2 * g * delta_t\n",
    "    circuit.rx(theta, qbr[qb_index])\n",
    "\n",
    "\n",
    "# e_field(circuit, qbr, 1, 1, 1)\n",
    "\n",
    "# circuit.draw('mpl')"
   ]
  },
  {
   "cell_type": "markdown",
   "metadata": {},
   "source": [
    "Now the Hopping term 2 $\\hat{U}_2 = \\prod_{i=1}^{L-1} e^{-iJ\\hat{Z}_{i,i+1}(\\hat{a}^\\dagger_i \\hat{a}_{i+1} + \\hat{a}_i \\hat{a}^\\dagger_{i+1})\\Delta t}$ corresponds to a conditional beam splitter.\n"
   ]
  },
  {
   "cell_type": "code",
   "execution_count": 15,
   "metadata": {},
   "outputs": [],
   "source": [
    "def hopping_term(circuit, qbr, qb_index, qmr, mode1, mode2, j, delta_t):\n",
    "    \"\"\"\n",
    "    Applies the hopping term \\( \\hat{U}_2 \\) as a conditional beam splitter.\n",
    "\n",
    "    Parameters:\n",
    "        circuit (QuantumCircuit): The quantum circuit to modify.\n",
    "        qbr (QuantumRegister): The quantum register containing the gauge field qubits.\n",
    "        qb_index (int): The index of the qubit in the quantum register acting as the control.\n",
    "        qmr (QumodeRegister): The quantum register containing the bosonic modes.\n",
    "        mode1 (int): The index of the first bosonic mode.\n",
    "        mode2 (int): The index of the second bosonic mode.\n",
    "        j (float): Coupling constant for the hopping term.\n",
    "        delta_t (float): Trotter time step.\n",
    "    \"\"\"\n",
    "    theta = -1j * j * delta_t\n",
    "    circuit.cv_c_bs(theta, qmr[mode1], qmr[mode2], qbr[qb_index])\n",
    "\n",
    "\n",
    "# hopping_term(circuit, qbr, 1, qmr, 1, 2, 1, 1)\n",
    "\n",
    "# circuit.draw('mpl')"
   ]
  },
  {
   "cell_type": "markdown",
   "metadata": {},
   "source": [
    "Now we can simulate the time evolution and get the occupation number over time."
   ]
  },
  {
   "cell_type": "code",
   "execution_count": null,
   "metadata": {},
   "outputs": [
    {
     "name": "stdout",
     "output_type": "stream",
     "text": [
      "Completed 1\n",
      "Completed 2\n",
      "Completed 3\n",
      "Completed 4\n",
      "Completed 5\n"
     ]
    }
   ],
   "source": [
    "def trotter_z2_higgs(circuit, numberofmodes, numberofqubits, qmr, qbr, N, g, j, delta_t):\n",
    "    \"\"\"\n",
    "    Trotterizes the \\( \\mathbb{Z}_2 \\)-Higgs model over N steps.\n",
    "\n",
    "    Parameters:\n",
    "        circuit (QuantumCircuit): The quantum circuit to modify.\n",
    "        numberofmodes (int): The number of bosonic modes.\n",
    "        numberofqubits (int): The number of qubits.\n",
    "        qmr (QumodeRegister): The quantum register containing the bosonic modes.\n",
    "        qbr (QuantumRegister): The quantum register containing the gauge field qubits.\n",
    "        N (int): The number of Trotter steps.\n",
    "        g (float): Coupling constant for the electric field term.\n",
    "        j (float): Coupling constant for the hopping term.\n",
    "        delta_t (float): Trotter time step.\n",
    "\n",
    "    Returns:\n",
    "        list: A list of occupation numbers for bosonic modes at each Trotter step.\n",
    "    \"\"\"\n",
    "    occupations = []\n",
    "\n",
    "    for step in range(N):\n",
    "        # Apply electric field term to all qubits\n",
    "        for qb_index in range(numberofqubits):\n",
    "            e_field(circuit, qbr, qb_index, g, delta_t)\n",
    "\n",
    "        for mode in range(0, numberofmodes - 1):\n",
    "            hopping_term(circuit, qbr, mode, qmr, mode, mode + 1, j, delta_t)\n",
    "        \n",
    "        # Simulate and collect occupations\n",
    "        stateop, _, _ = c2qa.util.simulate(circuit)\n",
    "        occupation = c2qa.util.stateread(stateop, numberofqubits, numberofmodes, 2**3, verbose=False)\n",
    "        occupations.append(np.array(list(occupation[0][0])))\n",
    "        # print(f\"Completed {step+1}\")\n",
    "\n",
    "    return occupations\n",
    "\n",
    "# Example test for g/J = 0\n",
    "dt = 0.1\n",
    "N = 1\n",
    "J = 1\n",
    "g = 0\n",
    "numberofmodes = 5\n",
    "numberofqubits = 4\n",
    "occupations = trotter_z2_higgs(circuit, numberofmodes, numberofqubits, qmr, qbr, N, g, J, dt)"
   ]
  },
  {
   "cell_type": "code",
   "execution_count": null,
   "metadata": {},
   "outputs": [
    {
     "data": {
      "image/png": "[encoded data removed]",
      "text/plain": [
       "<Figure size 600x300 with 2 Axes>"
      ]
     },
     "metadata": {},
     "output_type": "display_data"
    }
   ],
   "source": [
    "# Extend occupations to match pcolormesh requirements\n",
    "occupations_array = np.vstack([occupations, np.zeros((1, numberofmodes))])[:-1, :]  # Match grid dimensions\n",
    "\n",
    "# Define x-axis (modes) and y-axis (time steps)\n",
    "x_values = np.arange(numberofmodes + 1) - numberofmodes // 2 - 0.5\n",
    "y_values = np.arange(N + 1) * dt * J\n",
    "\n",
    "# Update colormap and enhance visibility with vmin and vmax\n",
    "plt.pcolormesh(\n",
    "    x_values,\n",
    "    y_values,\n",
    "    occupations_array,\n",
    "    cmap='viridis',  # Use a more visually distinct colormap\n",
    "    shading='auto',\n",
    "    vmin=0,  # Set minimum value to the lowest occupation\n",
    "    vmax=np.max(occupations_array)  # Set maximum value to the highest occupation\n",
    ")\n",
    "plt.title(f\"$g/J = {g / J}$\")\n",
    "plt.xlabel(\"Site\")\n",
    "plt.ylabel(\"Time ($Jt$)\")\n",
    "\n",
    "# Add color bar\n",
    "cbar = plt.colorbar()\n",
    "cbar.ax.get_yaxis().labelpad = 15\n",
    "cbar.set_label(\"Mode occupation\", rotation=270)\n",
    "\n",
    "# Adjust figure size and layout\n",
    "plt.rcParams[\"figure.figsize\"] = (6, 3)\n",
    "plt.tight_layout()\n",
    "\n",
    "# Save plot to PDF\n",
    "plt.savefig(\"Z2_no_noise.pdf\", format='pdf', bbox_inches='tight')\n",
    "\n",
    "# Close the plot to avoid overlapping when creating new plots later\n",
    "plt.close()\n"
   ]
  }
 ],
 "metadata": {
  "kernelspec": {
   "display_name": "Python (Bosonic Qiskit)",
   "language": "python",
   "name": "venv"
  },
  "language_info": {
   "codemirror_mode": {
    "name": "ipython",
    "version": 3
   },
   "file_extension": ".py",
   "mimetype": "text/x-python",
   "name": "python",
   "nbconvert_exporter": "python",
   "pygments_lexer": "ipython3",
   "version": "3.10.12"
  }
 },
 "nbformat": 4,
 "nbformat_minor": 2
}
