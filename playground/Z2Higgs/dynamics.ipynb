{
 "cells": [
  {
   "cell_type": "markdown",
   "metadata": {},
   "source": [
    "# Z2-Higgs Model Dynamics\n",
    "\n",
    "Reproducing Fig. 17 from [arXiv:2409.03747](https://arxiv.org/abs/2409.03747).\n",
    "### Hamiltonian in (1 + 1)D:\n",
    "\n",
    "The $Z_2$-Higgs model Hamiltonian is given by:\n",
    "\n",
    "$$\n",
    "\\hat{H}_{Z_2} = -g \\sum_{i=1}^{L-1} \\hat{X}_{i,i+1} + U \\sum_{i=1}^{L} \\hat{n}_i^2 \n",
    "- J \\sum_{i=1}^{L-1} \\left( \\hat{a}^\\dagger_i \\hat{Z}_{i,i+1} \\hat{a}_{i+1} + \\text{h.c.} \\right)\n",
    "$$\n",
    "\n",
    "We will simulate the Trotterized dynamics for $U = 0$.\n",
    "\n",
    "---\n",
    "\n",
    "### Trotterized Evolution:\n",
    "\n",
    "We evolve initial states using a first-order Trotterization:\n",
    "\n",
    "$$\n",
    "e^{-i\\hat{H}_{Z_2}t} \\approx \\left( \\hat{U}_1 \\hat{U}_2 \\right)^r\n",
    "$$\n",
    "\n",
    "where $\\Delta t = t/r$ and:\n",
    "\n",
    "1. **Electric field on links:**\n",
    "   $$\n",
    "   \\hat{U}_1 = \\prod_{i} e^{-ig\\hat{X}_{i,i+1}\\Delta t}\n",
    "   $$\n",
    "\n",
    "2. **Hopping term for bosons between sites:**\n",
    "   $$\n",
    "   \\hat{U}_2 = \\prod_{i=1}^{L-1} e^{-iJ\\hat{Z}_{i,i+1}(\\hat{a}^\\dagger_i \\hat{a}_{i+1} + \\hat{a}_i \\hat{a}^\\dagger_{i+1})\\Delta t}\n",
    "   $$\n",
    "\n",
    "---\n",
    "\n",
    "### Steps (to be removed before pushing to GitHub):\n",
    "\n",
    "1. Work out how to compile Trotter steps into native architecture gates.\n",
    "2. Simulate dynamics with the compiled circuits.\n",
    "3. Determine the measurement scheme (e.g., do we need to use transmons to read out Fock numbers?).\n",
    "4. Reproduce the plot (match the dynamics and decoherence effects as presented in Fig. 17).\n"
   ]
  },
  {
   "cell_type": "code",
   "execution_count": 2,
   "metadata": {},
   "outputs": [],
   "source": [
    "import sys\n",
    "import os\n",
    "\n",
    "# Adjust the path based on your directory structure\n",
    "module_path = os.path.abspath(os.path.join('..', '..'))  # Moves two directories up\n",
    "if module_path not in sys.path:\n",
    "    sys.path.append(module_path)\n",
    "    \n",
    "# Now you can import c2qa and other modules from bosonic-qiskit\n",
    "import c2qa\n",
    "import qiskit\n",
    "import numpy as np\n",
    "import c2qa.util as util\n",
    "import matplotlib.pyplot as plt\n",
    "import matplotlib"
   ]
  },
  {
   "cell_type": "markdown",
   "metadata": {},
   "source": [
    "We consider a $L=5$-site chain prepared in the state $|\\psi_0\\rangle = |00100\\rangle$. The limitation to five sites is not restrictive for short timescales, as the interactions are short-range, and excitations spread with a finite velocity. As long as the “lightcone” does not reach the boundary, the results obtained are the same as in a larger system. The qubits representing the $\\mathbb{Z}_2$-Higgs model gauge fields must be initialized according to Gauss’s law, ensuring consistency between the qubits and the parity in each mode. Specifically, with the leftmost gauge field qubit in $|+\\rangle$ and the sites in the Fock state $|00100\\rangle$, the gauge field qubits on the links between the bosonic sites are initialized in $|++--\\rangle$.\n"
   ]
  },
  {
   "cell_type": "code",
   "execution_count": 11,
   "metadata": {},
   "outputs": [],
   "source": [
    "# Parameters\n",
    "numberofmodes = 5\n",
    "numberofqubits = numberofmodes - 1\n",
    "numberofqubitspermode = 3\n",
    "cutoff = 2 ** numberofqubitspermode\n",
    "\n",
    "# Create registers\n",
    "qmr = c2qa.QumodeRegister(num_qumodes=numberofmodes, num_qubits_per_qumode=numberofqubitspermode)  # Qumodes\n",
    "qbr = qiskit.QuantumRegister(size=numberofqubits)  # Qubits for gauge fields\n",
    "cbr = qiskit.ClassicalRegister(size=1)  # Classical register for readout\n",
    "circuit = c2qa.CVCircuit(qmr, qbr, cbr)  # Circuit\n",
    "\n",
    "# Initialize bosonic modes (Fock state |00100⟩)\n",
    "fock_states = [0, 0, 1, 0, 0]  # Corresponds to |00100⟩\n",
    "for i, fock_amplitude in enumerate(fock_states):\n",
    "    coeffs = [0] * cutoff  # Initialize all coefficients to 0\n",
    "    coeffs[fock_amplitude] = 1  # Set the amplitude for the desired Fock state\n",
    "    circuit.cv_initialize(coeffs, qmr[i])  # Initialize each qumode\n",
    "\n",
    "# Initialize qubits (|++--⟩)\n",
    "plus_state = [1 / np.sqrt(2), 1 / np.sqrt(2)]  # Coefficients for |+⟩\n",
    "minus_state = [1 / np.sqrt(2), -1 / np.sqrt(2)]  # Coefficients for |−⟩\n",
    "\n",
    "# Apply initialization to each qubit\n",
    "for i in range(numberofqubits):\n",
    "    if i < 2:  # First two qubits to |+⟩\n",
    "        circuit.initialize(plus_state, qbr[i])\n",
    "    else:  # Last two qubits to |−⟩\n",
    "        circuit.initialize(minus_state, qbr[i])\n",
    "\n",
    "\n",
    "# Draw the circuit for visualization\n",
    "# circuit.draw('mpl')\n",
    "\n",
    "# state0, _, _ = c2qa.util.simulate(circuit)\n",
    "# print(state0)"
   ]
  },
  {
   "cell_type": "markdown",
   "metadata": {},
   "source": [
    "Now we need to define the gate sequence correspoding to a single Trotter step."
   ]
  }
 ],
 "metadata": {
  "kernelspec": {
   "display_name": "Python (Bosonic Qiskit)",
   "language": "python",
   "name": "venv"
  },
  "language_info": {
   "codemirror_mode": {
    "name": "ipython",
    "version": 3
   },
   "file_extension": ".py",
   "mimetype": "text/x-python",
   "name": "python",
   "nbconvert_exporter": "python",
   "pygments_lexer": "ipython3",
   "version": "3.10.12"
  }
 },
 "nbformat": 4,
 "nbformat_minor": 2
}
