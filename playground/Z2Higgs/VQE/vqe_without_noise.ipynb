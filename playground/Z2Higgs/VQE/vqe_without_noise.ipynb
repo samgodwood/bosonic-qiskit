{
 "cells": [
  {
   "cell_type": "markdown",
   "metadata": {},
   "source": [
    "#VQE\n",
    "\n",
    "Code to reproduce the $\\mathcal{Z}_2$ Higgs model VQE from [here](https://arxiv.org/abs/2409.03747)."
   ]
  }
 ],
 "metadata": {
  "language_info": {
   "name": "python"
  }
 },
 "nbformat": 4,
 "nbformat_minor": 2
}
