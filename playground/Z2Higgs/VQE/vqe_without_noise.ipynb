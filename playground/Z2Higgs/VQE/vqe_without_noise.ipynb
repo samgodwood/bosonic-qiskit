{
 "cells": [
  {
   "cell_type": "markdown",
   "metadata": {},
   "source": [
    "# VQE\n",
    "\n",
    "Code to reproduce the $\\mathbb{Z}_2$ Higgs model VQE from [here](https://arxiv.org/abs/2409.03747).\n",
    "We first aim to produce Fig 18.b.\n",
    "\n",
    "The $M$-layer ansatz is: \n",
    "$$\n",
    "|\\psi_M(\\theta)\\rangle = \\prod_{l=1}^M \\left( \\prod_{i=1}^N \\hat{U}_3(\\gamma_i^l, i) \\prod_{i=1}^{N+1} \\hat{U}_4(\\delta_i^l, i) \\prod_{i \\in \\text{even}} \\hat{U}_2(\\alpha_i^l, i)\\hat{U}_1(\\beta_i^l, i) \\prod_{i \\in \\text{odd}} \\hat{U}_2(\\alpha_i^l, i)\\hat{U}_1(\\beta_i^l, i) \\right) |\\phi\\rangle\n",
    "$$\n",
    "where $\\hat{U}_1(\\theta, i) = e^{-\\theta \\hat{Z}_{i,i+1} (\\hat{a}^\\dagger_i \\hat{a}_{i+1} - \\hat{a}_i \\hat{a}^\\dagger_{i+1})},\n",
    "$\n",
    "$\n",
    "\\hat{U}_2(\\theta, i) = e^{i\\theta \\hat{Z}_{i,i+1} (\\hat{a}^\\dagger_i \\hat{a}_{i+1} + \\hat{a}_i \\hat{a}^\\dagger_{i+1})},\n",
    "$\n",
    "$\n",
    "\\hat{U}_3(\\theta, i) = e^{-i\\theta \\hat{X}_{i,i+1}},\n",
    "$\n",
    "$\n",
    "\\hat{U}_4(\\theta, i) = e^{-i\\theta \\hat{n}^2_i}\n",
    "$"
   ]
  },
  {
   "cell_type": "code",
   "execution_count": 1,
   "metadata": {},
   "outputs": [
    {
     "name": "stderr",
     "output_type": "stream",
     "text": [
      "/usr/lib/python3/dist-packages/pythran/tables.py:4520: FutureWarning: In the future `np.bool` will be defined as the corresponding NumPy scalar.\n",
      "  if not hasattr(numpy, method):\n",
      "/usr/lib/python3/dist-packages/pythran/tables.py:4553: FutureWarning: In the future `np.bytes` will be defined as the corresponding NumPy scalar.\n",
      "  obj = getattr(themodule, elem)\n"
     ]
    }
   ],
   "source": [
    "import sys\n",
    "import os\n",
    "\n",
    "# Adjust the path based on your directory structure\n",
    "module_path = os.path.abspath(os.path.join('..', '..', '..'))  # Moves three directories up\n",
    "if module_path not in sys.path:\n",
    "    sys.path.append(module_path)\n",
    "    \n",
    "# Now you can import c2qa and other modules from bosonic-qiskit\n",
    "import c2qa\n",
    "import qiskit\n",
    "import numpy as np\n",
    "import c2qa.util as util\n",
    "import matplotlib.pyplot as plt\n",
    "import matplotlib"
   ]
  },
  {
   "cell_type": "code",
   "execution_count": 2,
   "metadata": {},
   "outputs": [],
   "source": [
    "# Parameters\n",
    "numberofmodes = 5\n",
    "numberofqubits = numberofmodes - 1\n",
    "numberofqubitspermode = 3\n",
    "cutoff = 2 ** numberofqubitspermode\n",
    "\n",
    "# Create registers\n",
    "qmr = c2qa.QumodeRegister(num_qumodes=numberofmodes, num_qubits_per_qumode=numberofqubitspermode)  # Qumodes\n",
    "qbr = qiskit.QuantumRegister(size=numberofqubits)  # Qubits for gauge fields\n",
    "circuit = c2qa.CVCircuit(qmr, qbr)  # Circuit"
   ]
  },
  {
   "cell_type": "markdown",
   "metadata": {},
   "source": [
    "The ansatz consists of applying $\\hat{U}_1(\\theta, i)$, $\\hat{U}_2(\\theta, i)$ and then simulatenously $\\hat{U}_3(\\theta, i)$ and $\\hat{U}_4(\\theta, i)$."
   ]
  }
 ],
 "metadata": {
  "kernelspec": {
   "display_name": "Python (Bosonic Qiskit)",
   "language": "python",
   "name": "venv"
  },
  "language_info": {
   "codemirror_mode": {
    "name": "ipython",
    "version": 3
   },
   "file_extension": ".py",
   "mimetype": "text/x-python",
   "name": "python",
   "nbconvert_exporter": "python",
   "pygments_lexer": "ipython3",
   "version": "3.10.12"
  }
 },
 "nbformat": 4,
 "nbformat_minor": 2
}
